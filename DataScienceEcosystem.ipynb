{
 "cells": [
  {
   "cell_type": "markdown",
   "id": "e9b5cb05-fe0e-4ecd-885f-0dcf5f0a7d49",
   "metadata": {},
   "source": [
    "# Data Science Tools and Ecosystem"
   ]
  },
  {
   "cell_type": "markdown",
   "id": "a2aebb57-d813-4284-9b1c-2fde2b454a57",
   "metadata": {},
   "source": [
    "In this notebook, Data Science Tools and Ecosystem are summarized."
   ]
  },
  {
   "cell_type": "markdown",
   "id": "71fc179e-ae12-41cb-a19e-17aaa1d0ac9a",
   "metadata": {},
   "source": [
    "**Objectives**\n",
    "- Some of the popular languages that Data Scientists\n",
    "- Some of the commonly used libraries used by Data Scientists\n",
    "- Data Science Tools"
   ]
  },
  {
   "cell_type": "markdown",
   "id": "418cee9c-63ed-428f-977d-aa0412ca0dce",
   "metadata": {},
   "source": [
    "Some of the popular languages that Data Scientists use are:\n",
    "1. Python                    \n",
    "2. R\n",
    "3. SQL\n",
    "4. Java"
   ]
  },
  {
   "cell_type": "markdown",
   "id": "0eac8d33-a653-44a6-9f7d-acac8c8b85fa",
   "metadata": {},
   "source": [
    "Some of the commonly used libraries used by Data Scientists include:\n",
    "1. pandas\n",
    "2. NumPy\n",
    "3. Matplotlib             "
   ]
  },
  {
   "cell_type": "code",
   "execution_count": null,
   "id": "5918967b-f187-4836-ab9d-1963ef358170",
   "metadata": {},
   "outputs": [],
   "source": [
    "|Data Science Tools|\n",
    "|------------------|\n",
    "|Jupyter Notebooks|\n",
    "|RStudios|\n",
    "|Zeppelin notebooks|                                 "
   ]
  },
  {
   "cell_type": "markdown",
   "id": "cbb85f37-9a5a-4a7c-b883-f6455be3a1d5",
   "metadata": {},
   "source": [
    "### Below are a few examples of evaluating arithmetic expressions in Python"
   ]
  },
  {
   "cell_type": "code",
   "execution_count": null,
   "id": "8c625c27-4025-455e-94a8-9a5e384c2efb",
   "metadata": {},
   "outputs": [
    {
     "data": {
      "text/plain": [
       "17"
      ]
     },
     "execution_count": 2,
     "metadata": {},
     "output_type": "execute_result"
    }
   ],
   "source": [
    "# This a simple arithmetic expression to mutiply then add integers\n",
    "(3*4)+5                  "
   ]
  },
  {
   "cell_type": "code",
   "execution_count": 3,
   "id": "6d4a7a19-1ba3-4f4e-9af5-a9e852f9f5da",
   "metadata": {},
   "outputs": [
    {
     "name": "stdout",
     "output_type": "stream",
     "text": [
      "3.3333333333333335\n"
     ]
    }
   ],
   "source": [
    "# This will convert 200 minutes to hours by diving by 60\n",
    "hours = 200 / 60\n",
    "print(hours)"
   ]
  },
  {
   "cell_type": "markdown",
   "id": "f04e8699-0412-478c-9aa2-78463c78e15a",
   "metadata": {},
   "source": [
    "## Author\n",
    "Jennifer Anaba Aboor"
   ]
  }
 ],
 "metadata": {
  "kernelspec": {
   "display_name": "Python 3 (ipykernel)",
   "language": "python",
   "name": "python3"
  },
  "language_info": {
   "codemirror_mode": {
    "name": "ipython",
    "version": 3
   },
   "file_extension": ".py",
   "mimetype": "text/x-python",
   "name": "python",
   "nbconvert_exporter": "python",
   "pygments_lexer": "ipython3",
   "version": "3.10.9"
  }
 },
 "nbformat": 4,
 "nbformat_minor": 5
}
